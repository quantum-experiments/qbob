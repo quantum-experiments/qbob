{
 "cells": [
  {
   "cell_type": "markdown",
   "metadata": {},
   "source": [
    "# Using QBOB |👷🏾‍♂️> to submit Qiskit circuits to Azure Quantum"
   ]
  },
  {
   "cell_type": "code",
   "execution_count": 1,
   "metadata": {},
   "outputs": [],
   "source": [
    "from qiskit import *\n",
    "from qbob.qiskit import *\n",
    "import qsharp.azure as aq"
   ]
  },
  {
   "cell_type": "markdown",
   "metadata": {},
   "source": [
    "## Build the Qiskit circuit"
   ]
  },
  {
   "cell_type": "code",
   "execution_count": 2,
   "metadata": {},
   "outputs": [
    {
     "name": "stdout",
     "output_type": "stream",
     "text": [
      "OPENQASM 2.0;\n",
      "include \"qelib1.inc\";\n",
      "qreg q[2];\n",
      "creg c[2];\n",
      "h q[0];\n",
      "cx q[0],q[1];\n",
      "measure q[0] -> c[0];\n",
      "measure q[1] -> c[1];\n",
      "\n"
     ]
    }
   ],
   "source": [
    "qc = QuantumCircuit(2, 2)\n",
    "qc.h(0)\n",
    "qc.cx(0, 1)\n",
    "qc.measure([0, 1], [0, 1])\n",
    "\n",
    "print(qc.qasm())"
   ]
  },
  {
   "cell_type": "markdown",
   "metadata": {},
   "source": [
    "## Convert to Q# via QBOB |👷🏾‍♂️>"
   ]
  },
  {
   "cell_type": "code",
   "execution_count": 3,
   "metadata": {},
   "outputs": [
    {
     "name": "stdout",
     "output_type": "stream",
     "text": [
      "operation MeasureEntangledState () : Result[] {\n",
      "    using (qubits = Qubit[2]) {\n",
      "        H(qubits[0]);\n",
      "        CNOT(qubits[0], qubits[1]);\n",
      "        return [M(qubits[0]), M(qubits[1])];\n",
      "    }\n",
      "}\n"
     ]
    }
   ],
   "source": [
    "operation_builder = qbob_from_qiskit(qc, \"MeasureEntangledState\")\n",
    "print(operation_builder.build())\n",
    "\n",
    "qsharp_operation = operation_builder.compile()"
   ]
  },
  {
   "cell_type": "markdown",
   "metadata": {},
   "source": [
    "## Submit to Azure Quantum"
   ]
  },
  {
   "cell_type": "code",
   "execution_count": 4,
   "metadata": {},
   "outputs": [
    {
     "name": "stdout",
     "output_type": "stream",
     "text": [
      "Connected to Azure Quantum workspace Demo-IEEEQuantumWeek in location westus.\n",
      "Loading package Microsoft.Quantum.Providers.IonQ and dependencies...\n",
      "Active target is now ionq.simulator\n",
      "Submitting MeasureEntangledState to target ionq.simulator...\n",
      "Job successfully submitted for 500 shots.\n",
      "   Job name: MeasureEntangledState\n",
      "   Job ID: 85d0ac53-b300-4574-b9eb-15adee0bf1ae\n"
     ]
    },
    {
     "data": {
      "text/plain": [
       "{'id': '85d0ac53-b300-4574-b9eb-15adee0bf1ae', 'name': 'MeasureEntangledState', 'status': 'Waiting', 'uri': 'https://ms.portal.azure.com/#@microsoft.onmicrosoft.com/resource/subscriptions/916dfd6d-030c-4bd9-b579-7bb6d1926e97/resourceGroups/aqua-testing-westus2/providers/Microsoft.Quantum/Workspaces/Demo-IEEEQuantumWeek/job_management?microsoft_azure_quantum_jobid=85d0ac53-b300-4574-b9eb-15adee0bf1ae', 'provider': 'ionq', 'target': 'ionq.simulator', 'creation_time': '2020-12-05T15:45:54.610394Z', 'begin_execution_time': None, 'end_execution_time': None}"
      ]
     },
     "execution_count": 4,
     "metadata": {},
     "output_type": "execute_result"
    }
   ],
   "source": [
    "aq.connect(resourceId='/subscriptions/916dfd6d-030c-4bd9-b579-7bb6d1926e97/resourcegroups/aqua-testing-westus2/providers/Microsoft.Quantum/Workspaces/Demo-IEEEQuantumWeek')\n",
    "aq.target('ionq.simulator')\n",
    "aq.submit(qsharp_operation)"
   ]
  },
  {
   "cell_type": "code",
   "execution_count": 5,
   "metadata": {},
   "outputs": [
    {
     "data": {
      "text/plain": [
       "{'id': '85d0ac53-b300-4574-b9eb-15adee0bf1ae', 'name': 'MeasureEntangledState', 'status': 'Succeeded', 'uri': 'https://ms.portal.azure.com/#@microsoft.onmicrosoft.com/resource/subscriptions/916dfd6d-030c-4bd9-b579-7bb6d1926e97/resourceGroups/aqua-testing-westus2/providers/Microsoft.Quantum/Workspaces/Demo-IEEEQuantumWeek/job_management?microsoft_azure_quantum_jobid=85d0ac53-b300-4574-b9eb-15adee0bf1ae', 'provider': 'ionq', 'target': 'ionq.simulator', 'creation_time': '2020-12-05T15:45:54.610394Z', 'begin_execution_time': '2020-12-05T15:45:56.509Z', 'end_execution_time': '2020-12-05T15:45:56.52Z'}"
      ]
     },
     "execution_count": 5,
     "metadata": {},
     "output_type": "execute_result"
    }
   ],
   "source": [
    "aq.status()"
   ]
  },
  {
   "cell_type": "code",
   "execution_count": 6,
   "metadata": {},
   "outputs": [
    {
     "data": {
      "text/plain": [
       "{'[0,0]': 0.4999999999999999, '[1,1]': 0.4999999999999999}"
      ]
     },
     "execution_count": 6,
     "metadata": {},
     "output_type": "execute_result"
    }
   ],
   "source": [
    "aq.output()"
   ]
  }
 ],
 "metadata": {
  "kernelspec": {
   "display_name": "Python 3",
   "language": "python",
   "name": "python3"
  },
  "language_info": {
   "codemirror_mode": {
    "name": "ipython",
    "version": 3
   },
   "file_extension": ".py",
   "mimetype": "text/x-python",
   "name": "python",
   "nbconvert_exporter": "python",
   "pygments_lexer": "ipython3",
   "version": "3.7.8"
  }
 },
 "nbformat": 4,
 "nbformat_minor": 4
}
