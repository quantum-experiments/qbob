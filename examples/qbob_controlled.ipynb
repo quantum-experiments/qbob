{
 "cells": [
  {
   "cell_type": "markdown",
   "metadata": {},
   "source": [
    "# QBOB |👷🏾‍♂️> controlled operations"
   ]
  },
  {
   "cell_type": "markdown",
   "metadata": {},
   "source": [
    "## Controlled Z"
   ]
  },
  {
   "cell_type": "code",
   "execution_count": 61,
   "metadata": {},
   "outputs": [],
   "source": [
    "from qbob import qbob\n",
    "from qbob.intrinsics import X, Z, M, H"
   ]
  },
  {
   "cell_type": "code",
   "execution_count": 62,
   "metadata": {},
   "outputs": [],
   "source": [
    "my_qbob = qbob.OperationBuilder(\"TestControlled\")"
   ]
  },
  {
   "cell_type": "code",
   "execution_count": 63,
   "metadata": {},
   "outputs": [],
   "source": [
    "with my_qbob.allocate_qubits(\"q\", 2) as q:\n",
    "    my_qbob += H(q[0])\n",
    "    my_qbob += Z(q[0]).controlled_on(q[1])\n",
    "    my_qbob += X(q[1])\n",
    "    my_qbob.returns([M(q[0]), M(q[1])])"
   ]
  },
  {
   "cell_type": "code",
   "execution_count": 64,
   "metadata": {},
   "outputs": [
    {
     "name": "stdout",
     "output_type": "stream",
     "text": [
      "operation TestControlled () : Result[] {\n",
      "    using (q = Qubit[2]) {\n",
      "        H(q[0]);\n",
      "        Controlled Z([q[1]], q[0]);\n",
      "        X(q[1]);\n",
      "        return [M(q[0]), M(q[1])];\n",
      "    }\n",
      "}\n"
     ]
    }
   ],
   "source": [
    "print(my_qbob.build())"
   ]
  },
  {
   "cell_type": "code",
   "execution_count": 65,
   "metadata": {},
   "outputs": [],
   "source": [
    "controlled_z = my_qbob.compile()"
   ]
  },
  {
   "cell_type": "code",
   "execution_count": 71,
   "metadata": {},
   "outputs": [
    {
     "data": {
      "text/plain": [
       "[[1, 1],\n",
       " [0, 1],\n",
       " [0, 1],\n",
       " [1, 1],\n",
       " [1, 1],\n",
       " [1, 1],\n",
       " [0, 1],\n",
       " [0, 1],\n",
       " [0, 1],\n",
       " [1, 1]]"
      ]
     },
     "execution_count": 71,
     "metadata": {},
     "output_type": "execute_result"
    }
   ],
   "source": [
    "[controlled_z() for _ in range(10)]"
   ]
  },
  {
   "cell_type": "markdown",
   "metadata": {},
   "source": [
    "## Apply controlled on bitstring"
   ]
  },
  {
   "cell_type": "code",
   "execution_count": 43,
   "metadata": {},
   "outputs": [],
   "source": [
    "my_qbob = qbob.OperationBuilder(\"TestOnBitstring\")\n",
    "with my_qbob.allocate_qubits(\"q\", 4) as q:\n",
    "    my_qbob += X(q[0]).controlled_on_bit_string([False, False, False], [q[1], q[2], q[3]])\n",
    "    my_qbob.returns([M(q[0]), M(q[1]), M(q[2]), M(q[3])])"
   ]
  },
  {
   "cell_type": "code",
   "execution_count": 44,
   "metadata": {},
   "outputs": [
    {
     "name": "stdout",
     "output_type": "stream",
     "text": [
      "operation TestOnBitstring () : Result[] {\n",
      "    using (q = Qubit[4]) {\n",
      "        ApplyControlledOnBitString([false, false, false], X, [q[1], q[2], q[3]], q[0]);\n",
      "        return [M(q[0]), M(q[1]), M(q[2]), M(q[3])];\n",
      "    }\n",
      "}\n"
     ]
    }
   ],
   "source": [
    "print(my_qbob.build())"
   ]
  },
  {
   "cell_type": "code",
   "execution_count": 45,
   "metadata": {},
   "outputs": [],
   "source": [
    "controlled_on_bit_string = my_qbob.compile()"
   ]
  },
  {
   "cell_type": "code",
   "execution_count": 72,
   "metadata": {},
   "outputs": [
    {
     "data": {
      "text/plain": [
       "[[1, 0, 0, 0],\n",
       " [1, 0, 0, 0],\n",
       " [1, 0, 0, 0],\n",
       " [1, 0, 0, 0],\n",
       " [1, 0, 0, 0],\n",
       " [1, 0, 0, 0],\n",
       " [1, 0, 0, 0],\n",
       " [1, 0, 0, 0],\n",
       " [1, 0, 0, 0],\n",
       " [1, 0, 0, 0]]"
      ]
     },
     "execution_count": 72,
     "metadata": {},
     "output_type": "execute_result"
    }
   ],
   "source": [
    "[controlled_on_bit_string() for _ in range(10)]"
   ]
  },
  {
   "cell_type": "code",
   "execution_count": null,
   "metadata": {},
   "outputs": [],
   "source": []
  }
 ],
 "metadata": {
  "kernelspec": {
   "display_name": "Python 3",
   "language": "python",
   "name": "python3"
  },
  "language_info": {
   "codemirror_mode": {
    "name": "ipython",
    "version": 3
   },
   "file_extension": ".py",
   "mimetype": "text/x-python",
   "name": "python",
   "nbconvert_exporter": "python",
   "pygments_lexer": "ipython3",
   "version": "3.7.0"
  }
 },
 "nbformat": 4,
 "nbformat_minor": 4
}
