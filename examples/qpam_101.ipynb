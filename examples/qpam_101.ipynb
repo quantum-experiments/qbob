{
 "cells": [
  {
   "cell_type": "markdown",
   "metadata": {},
   "source": [
    "# QPAM |👷🏻‍♀️>: Q# Project Architect Manager"
   ]
  },
  {
   "cell_type": "code",
   "execution_count": 1,
   "metadata": {
    "scrolled": true
   },
   "outputs": [],
   "source": [
    "from qbob import qbob, qpam\n",
    "from qbob.intrinsics import Message, M, H"
   ]
  },
  {
   "cell_type": "markdown",
   "metadata": {},
   "source": [
    "#### Create HelloWorld operation"
   ]
  },
  {
   "cell_type": "code",
   "execution_count": 2,
   "metadata": {},
   "outputs": [],
   "source": [
    "my_qbob = qbob.OperationBuilder(\"HelloWorld\", entrypoint=True, debug=True)\n",
    "my_qbob += Message(\"Hello World!\")\n",
    "with my_qbob.allocate_qubits(\"q\", 1) as q:\n",
    "    my_qbob += H(q)\n",
    "    my_qbob.log_state(q)\n",
    "    my_qbob.returns(M(q))"
   ]
  },
  {
   "cell_type": "markdown",
   "metadata": {},
   "source": [
    "#### Generate project"
   ]
  },
  {
   "cell_type": "code",
   "execution_count": 3,
   "metadata": {},
   "outputs": [
    {
     "name": "stdout",
     "output_type": "stream",
     "text": [
      "Hello World!\n"
     ]
    }
   ],
   "source": [
    "my_qpam = qpam.ProgramArchitect(\"MyProject\", executable=True)\n",
    "my_qpam.add_operations(my_qbob)\n",
    "project_file = my_qpam.create_project(\".\")"
   ]
  },
  {
   "cell_type": "code",
   "execution_count": 4,
   "metadata": {},
   "outputs": [
    {
     "data": {
      "text/plain": [
       "'MyProject.csproj'"
      ]
     },
     "execution_count": 4,
     "metadata": {},
     "output_type": "execute_result"
    }
   ],
   "source": [
    "project_file"
   ]
  },
  {
   "cell_type": "markdown",
   "metadata": {},
   "source": [
    "### Create project from multiple operation builders"
   ]
  },
  {
   "cell_type": "markdown",
   "metadata": {},
   "source": [
    "#### Create Teleport operation"
   ]
  },
  {
   "cell_type": "code",
   "execution_count": 5,
   "metadata": {},
   "outputs": [
    {
     "name": "stdout",
     "output_type": "stream",
     "text": [
      "operation Teleport (msg : Qubit, target : Qubit) : Unit {\n",
      "    using (auxiliary = Qubit()) {\n",
      "        H(auxiliary);\n",
      "        CNOT(auxiliary, target);\n",
      "        CNOT(msg, auxiliary);\n",
      "        H(msg);\n",
      "\n",
      "        if (Measure([PauliZ], [msg]) == One) {\n",
      "            Z(target);\n",
      "        }\n",
      "\n",
      "        if (Measure([PauliZ], [auxiliary]) == One) {\n",
      "            X(target);\n",
      "        }\n",
      "    }\n",
      "}\n"
     ]
    }
   ],
   "source": [
    "from qbob.intrinsics import H, CNOT, X, Z, Measure\n",
    "from qbob.types import Qubit, Pauli, One\n",
    "\n",
    "teleport = qbob.OperationBuilder(\"Teleport\")\n",
    "msg = teleport.input(\"msg\", Qubit)\n",
    "target = teleport.input(\"target\", Qubit)\n",
    "\n",
    "with teleport.allocate_qubits(\"auxiliary\", 1) as aux:\n",
    "    teleport += H(aux)\n",
    "    teleport += CNOT(aux, target)\n",
    "    teleport += CNOT(msg, aux)\n",
    "    teleport += H(msg)\n",
    "\n",
    "    with teleport.if_statement(Measure([Pauli.PauliZ], [msg]) == One):\n",
    "        teleport += Z(target)\n",
    "\n",
    "    with teleport.if_statement(Measure([Pauli.PauliZ], [aux]) == One):\n",
    "        teleport += X(target)\n",
    "\n",
    "print(teleport.build())"
   ]
  },
  {
   "cell_type": "markdown",
   "metadata": {},
   "source": [
    "#### Create TeleportMessage entrypoint operation"
   ]
  },
  {
   "cell_type": "code",
   "execution_count": 6,
   "metadata": {},
   "outputs": [
    {
     "name": "stdout",
     "output_type": "stream",
     "text": [
      "@EntryPoint()\n",
      "operation TeleportMessage (message : Bool) : Result {\n",
      "    using (register = Qubit[2]) {\n",
      "\n",
      "        if (message == true) {\n",
      "            X(register[0]);\n",
      "        }\n",
      "        H(register[0]);\n",
      "        Teleport(register[0], register[1]);\n",
      "        return Measure([PauliX], [register[1]]);\n",
      "    }\n",
      "}\n"
     ]
    }
   ],
   "source": [
    "my_qbob = qbob.OperationBuilder(\"TeleportMessage\", entrypoint=True)\n",
    "message = my_qbob.input(\"message\", bool)\n",
    "\n",
    "with my_qbob.allocate_qubits(\"register\", 2) as register:\n",
    "    msg = register[0]\n",
    "    target = register[1]\n",
    "\n",
    "    with my_qbob.if_statement(message == True):\n",
    "        my_qbob += X(msg)\n",
    "    \n",
    "    my_qbob += H(msg)\n",
    "    my_qbob += teleport(msg, target)    \n",
    "    my_qbob.returns(Measure([Pauli.PauliX], [target]))\n",
    "\n",
    "print(my_qbob.build())"
   ]
  },
  {
   "cell_type": "markdown",
   "metadata": {},
   "source": [
    "#### Generate project"
   ]
  },
  {
   "cell_type": "code",
   "execution_count": 7,
   "metadata": {},
   "outputs": [],
   "source": [
    "my_qpam = qpam.ProgramArchitect(\"TeleportMessage\", executable=True)\n",
    "my_qpam.add_operations(teleport, my_qbob)\n",
    "project_file = my_qpam.create_project(\"teleport\")"
   ]
  },
  {
   "cell_type": "code",
   "execution_count": null,
   "metadata": {},
   "outputs": [],
   "source": []
  }
 ],
 "metadata": {
  "kernelspec": {
   "display_name": "Python 3",
   "language": "python",
   "name": "python3"
  },
  "language_info": {
   "codemirror_mode": {
    "name": "ipython",
    "version": 3
   },
   "file_extension": ".py",
   "mimetype": "text/x-python",
   "name": "python",
   "nbconvert_exporter": "python",
   "pygments_lexer": "ipython3",
   "version": "3.7.0"
  }
 },
 "nbformat": 4,
 "nbformat_minor": 4
}
