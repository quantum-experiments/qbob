{
 "cells": [
  {
   "cell_type": "markdown",
   "metadata": {},
   "source": [
    "# QPAM |👷🏻‍♀️>: Generate a Q# project"
   ]
  },
  {
   "cell_type": "code",
   "execution_count": 1,
   "metadata": {
    "scrolled": true
   },
   "outputs": [],
   "source": [
    "from qbob import qbob, qpam\n",
    "from qbob.intrinsics import Message, M, H"
   ]
  },
  {
   "cell_type": "code",
   "execution_count": 2,
   "metadata": {},
   "outputs": [],
   "source": [
    "my_qbob = qbob.OperationBuilder(\"HelloWorld\", entrypoint=True, debug=True)\n",
    "my_qbob += Message(\"Hello World!\")\n",
    "with my_qbob.allocate_qubits(\"q\", 1) as q:\n",
    "    my_qbob += H(q)\n",
    "    my_qbob.log_state(q)\n",
    "    my_qbob.returns(M(q))"
   ]
  },
  {
   "cell_type": "code",
   "execution_count": 3,
   "metadata": {},
   "outputs": [
    {
     "name": "stdout",
     "output_type": "stream",
     "text": [
      "Preparing Q# environment...\n",
      "Hello World!\n"
     ]
    }
   ],
   "source": [
    "my_qpam = qpam.ProgramArchitect(\"MyProject\")\n",
    "my_qpam.add_operations(my_qbob)\n",
    "project_file = my_qpam.create_project(\".\")"
   ]
  },
  {
   "cell_type": "code",
   "execution_count": 4,
   "metadata": {},
   "outputs": [
    {
     "name": "stdout",
     "output_type": "stream",
     "text": [
      "<Project Sdk=\"Microsoft.Quantum.Sdk/0.14.2011120240\">\r\n",
      "    <PropertyGroup>\r\n",
      "        <OutputType>Exe</OutputType>\r\n",
      "        <TargetFramework>netcoreapp3.1</TargetFramework>\r\n",
      "    </PropertyGroup>\r\n",
      "</Project>"
     ]
    }
   ],
   "source": [
    "!cat $project_file"
   ]
  },
  {
   "cell_type": "code",
   "execution_count": 5,
   "metadata": {},
   "outputs": [
    {
     "name": "stdout",
     "output_type": "stream",
     "text": [
      "namespace MyProject {\r\n",
      "    open Microsoft.Quantum.Canon;\r\n",
      "    open Microsoft.Quantum.Intrinsic;\r\n",
      "\r\n",
      "    @EntryPoint()\r\n",
      "    operation HelloWorld () : Result {\r\n",
      "        Message(\"Hello World!\");\r\n",
      "        using (q = Qubit()) {\r\n",
      "            H(q);\r\n",
      "            // # wave function for qubits with ids (least to most significant): 0\r\n",
      "            // ∣0❭:\t 0.707107 +  0.000000 i\t == \t***********          [ 0.500000 ]     --- [  0.00000 rad ]\r\n",
      "            // ∣1❭:\t 0.707107 +  0.000000 i\t == \t***********          [ 0.500000 ]     --- [  0.00000 rad ]\r\n",
      "            return M(q);\r\n",
      "        }\r\n",
      "    }\r\n",
      "}"
     ]
    }
   ],
   "source": [
    "!cat Program.qs"
   ]
  },
  {
   "cell_type": "code",
   "execution_count": 11,
   "metadata": {},
   "outputs": [
    {
     "name": "stdout",
     "output_type": "stream",
     "text": [
      "\u001b[?1h\u001b=\u001b[?1h\u001b=\u001b[?1h\u001b=\u001b[?1h\u001b=\u001b[?1h\u001b=\u001b[?1h\u001b=\u001b[?1h\u001b=\u001b[?1h\u001b=Hello World!\n",
      "Zero\n",
      "\u001b[?1h\u001b="
     ]
    }
   ],
   "source": [
    "!dotnet run --project $project_file"
   ]
  },
  {
   "cell_type": "markdown",
   "metadata": {},
   "source": [
    "## With debugging"
   ]
  },
  {
   "cell_type": "code",
   "execution_count": 7,
   "metadata": {},
   "outputs": [],
   "source": [
    "from qbob import qbob, qpam\n",
    "from qbob.intrinsics import M, H, X"
   ]
  },
  {
   "cell_type": "code",
   "execution_count": 8,
   "metadata": {},
   "outputs": [],
   "source": [
    "my_qbob = qbob.OperationBuilder(\"TestDumpMachine\", debug=True)\n",
    "\n",
    "with my_qbob.allocate_qubits(\"q\", 3) as q:\n",
    "    my_qbob += H(q[0])\n",
    "    my_qbob.log_state(q[0])\n",
    "    my_qbob += H(q[1])\n",
    "    my_qbob.log_state(q[1])\n",
    "    my_qbob += X(q[2])\n",
    "    my_qbob.log_state(q[2])\n",
    "    my_qbob.returns([M(q[0]), M(q[1]), M(q[2])])"
   ]
  },
  {
   "cell_type": "code",
   "execution_count": 9,
   "metadata": {},
   "outputs": [],
   "source": [
    "my_qpam = qpam.ProgramArchitect(\"TestDumpMachine\")\n",
    "my_qpam.add_operations(my_qbob)\n",
    "project_file = my_qpam.create_project(\".\")"
   ]
  },
  {
   "cell_type": "code",
   "execution_count": 10,
   "metadata": {},
   "outputs": [
    {
     "name": "stdout",
     "output_type": "stream",
     "text": [
      "<Project Sdk=\"Microsoft.Quantum.Sdk/0.14.2011120240\">\r\n",
      "    <PropertyGroup>\r\n",
      "        <OutputType>Exe</OutputType>\r\n",
      "        <TargetFramework>netcoreapp3.1</TargetFramework>\r\n",
      "    </PropertyGroup>\r\n",
      "</Project>"
     ]
    }
   ],
   "source": [
    "!cat $project_file"
   ]
  },
  {
   "cell_type": "code",
   "execution_count": 11,
   "metadata": {},
   "outputs": [
    {
     "name": "stdout",
     "output_type": "stream",
     "text": [
      "namespace TestDumpMachine {\r\n",
      "    open Microsoft.Quantum.Canon;\r\n",
      "    open Microsoft.Quantum.Intrinsic;\r\n",
      "\r\n",
      "    operation TestDumpMachine () : Result[] {\r\n",
      "        using (q = Qubit[3]) {\r\n",
      "            H(q[0]);\r\n",
      "            // # wave function for qubits with ids (least to most significant): 0\r\n",
      "            // ∣0❭:\t 0.707107 +  0.000000 i\t == \t***********          [ 0.500000 ]     --- [  0.00000 rad ]\r\n",
      "            // ∣1❭:\t 0.707107 +  0.000000 i\t == \t***********          [ 0.500000 ]     --- [  0.00000 rad ]\r\n",
      "            H(q[1]);\r\n",
      "            // # wave function for qubits with ids (least to most significant): 1\r\n",
      "            // ∣0❭:\t 0.707107 +  0.000000 i\t == \t**********           [ 0.500000 ]     --- [  0.00000 rad ]\r\n",
      "            // ∣1❭:\t 0.707107 +  0.000000 i\t == \t**********           [ 0.500000 ]     --- [  0.00000 rad ]\r\n",
      "            X(q[2]);\r\n",
      "            // # wave function for qubits with ids (least to most significant): 2\r\n",
      "            // ∣0❭:\t 0.000000 +  0.000000 i\t == \t                     [ 0.000000 ]                   \r\n",
      "            // ∣1❭:\t 1.000000 +  0.000000 i\t == \t******************** [ 1.000000 ]     --- [  0.00000 rad ]\r\n",
      "            return [M(q[0]), M(q[1]), M(q[2])];\r\n",
      "        }\r\n",
      "    }\r\n",
      "}"
     ]
    }
   ],
   "source": [
    "!cat Program.qs"
   ]
  },
  {
   "cell_type": "code",
   "execution_count": null,
   "metadata": {},
   "outputs": [],
   "source": []
  }
 ],
 "metadata": {
  "kernelspec": {
   "display_name": "Python 3",
   "language": "python",
   "name": "python3"
  },
  "language_info": {
   "codemirror_mode": {
    "name": "ipython",
    "version": 3
   },
   "file_extension": ".py",
   "mimetype": "text/x-python",
   "name": "python",
   "nbconvert_exporter": "python",
   "pygments_lexer": "ipython3",
   "version": "3.7.0"
  }
 },
 "nbformat": 4,
 "nbformat_minor": 4
}
