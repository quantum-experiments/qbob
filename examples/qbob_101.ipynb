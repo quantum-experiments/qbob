{
 "cells": [
  {
   "cell_type": "code",
   "execution_count": 1,
   "metadata": {
    "scrolled": true
   },
   "outputs": [],
   "source": [
    "from qbob import qbob, qpam\n",
    "from qbob.intrinsics import *\n",
    "from qbob.types import *"
   ]
  },
  {
   "cell_type": "code",
   "execution_count": 2,
   "metadata": {},
   "outputs": [],
   "source": [
    "my_qbob = qbob.OperationBuilder(\"HelloWorld\")\n",
    "my_qbob.is_entrypoint = True\n",
    "my_qbob += Message(\"Hello World!\")\n",
    "my_qbob += Message(\"Hello Again!\")"
   ]
  },
  {
   "cell_type": "code",
   "execution_count": 3,
   "metadata": {},
   "outputs": [
    {
     "name": "stdout",
     "output_type": "stream",
     "text": [
      "@EntryPoint()\n",
      "operation HelloWorld () : Unit {\n",
      "    Message(\"Hello World!\");\n",
      "    Message(\"Hello Again!\");\n",
      "}\n"
     ]
    }
   ],
   "source": [
    "print(my_qbob.build())"
   ]
  },
  {
   "cell_type": "code",
   "execution_count": 4,
   "metadata": {},
   "outputs": [
    {
     "data": {
      "text/plain": [
       "'MyProject.csproj'"
      ]
     },
     "execution_count": 4,
     "metadata": {},
     "output_type": "execute_result"
    }
   ],
   "source": [
    "my_qpam = qpam.ProgramArchitect(\"MyProject\")\n",
    "my_qpam.is_executable = True\n",
    "my_qpam.add_operations(my_qbob)\n",
    "my_qpam.create_project(\".\")"
   ]
  },
  {
   "cell_type": "code",
   "execution_count": 5,
   "metadata": {},
   "outputs": [
    {
     "name": "stdout",
     "output_type": "stream",
     "text": [
      "namespace MyProject {\n",
      "    open Microsoft.Quantum.Canon;\n",
      "    open Microsoft.Quantum.Intrinsic;\n",
      "\n",
      "    @EntryPoint()\n",
      "    operation HelloWorld () : Unit {\n",
      "        Message(\"Hello World!\");\n",
      "        Message(\"Hello Again!\");\n",
      "    }\n",
      "}\n"
     ]
    }
   ],
   "source": [
    "!type Program.qs"
   ]
  },
  {
   "cell_type": "code",
   "execution_count": 10,
   "metadata": {},
   "outputs": [
    {
     "name": "stdout",
     "output_type": "stream",
     "text": [
      "Hello World!\n",
      "Hello Again!\n"
     ]
    }
   ],
   "source": [
    "!dotnet run"
   ]
  },
  {
   "cell_type": "code",
   "execution_count": 7,
   "metadata": {},
   "outputs": [
    {
     "name": "stdout",
     "output_type": "stream",
     "text": [
      "operation Teleport (msg : Qubit, target : Qubit) : Unit {\n",
      "    using (auxiliary = Qubit()) {\n",
      "        H(auxiliary);\n",
      "        CNOT(auxiliary, target);\n",
      "        CNOT(msg, auxiliary);\n",
      "        H(msg);\n",
      "\n",
      "        if (Measure([PauliZ], [msg]) == One) {\n",
      "            Z(target);\n",
      "        }\n",
      "\n",
      "        if (Measure([PauliZ], [auxiliary]) == One) {\n",
      "            X(target);\n",
      "        }\n",
      "    }\n",
      "}\n"
     ]
    }
   ],
   "source": [
    "my_qbob = qbob.OperationBuilder(\"Teleport\")\n",
    "msg = my_qbob.input(\"msg\", Qubit)\n",
    "target = my_qbob.input(\"target\", Qubit)\n",
    "with my_qbob.allocate_qubits(\"auxiliary\", 1) as aux:\n",
    "    my_qbob += H(aux)\n",
    "    my_qbob += CNOT(aux, target)\n",
    "    my_qbob += CNOT(msg, aux)\n",
    "    my_qbob += H(msg)\n",
    "    with my_qbob.if_statement(Measure([Pauli.PauliZ], [msg]) == One):\n",
    "        my_qbob += Z(target)\n",
    "    with my_qbob.if_statement(Measure([Pauli.PauliZ], [aux]) == One):\n",
    "        my_qbob += X(target)\n",
    "        \n",
    "print(my_qbob.build())"
   ]
  },
  {
   "cell_type": "code",
   "execution_count": 8,
   "metadata": {},
   "outputs": [
    {
     "name": "stdout",
     "output_type": "stream",
     "text": [
      "operation PrepareEntangledState (qubits : Qubit[]) : Unit is Adj {\n",
      "    H(qubits[0]);\n",
      "    CNOT(qubits[0], qubits[1]);\n",
      "}\n",
      "operation MeasureEntangledState () : Result[] {\n",
      "    using (qubits = Qubit[2]) {\n",
      "        PrepareEntangledState(qubits);\n",
      "        return [M(qubits[0]), M(qubits[1])];\n",
      "    }\n",
      "}\n"
     ]
    }
   ],
   "source": [
    "prepare_qbob = qbob.OperationBuilder(\"PrepareEntangledState\")\n",
    "prepare_qbob.is_adj = True\n",
    "qubits = prepare_qbob.input(\"qubits\", List[Qubit])\n",
    "prepare_qbob += H(qubits[0])\n",
    "prepare_qbob += CNOT(qubits[0], qubits[1])\n",
    "\n",
    "print(prepare_qbob.build())\n",
    "\n",
    "measure_qbob = qbob.OperationBuilder(\"MeasureEntangledState\")\n",
    "with measure_qbob.allocate_qubits(\"qubits\", 2) as q:\n",
    "    measure_qbob += prepare_qbob(q)\n",
    "    measure_qbob.returns([M(q[0]), M(q[1])])\n",
    "    \n",
    "print(measure_qbob.build())"
   ]
  },
  {
   "cell_type": "code",
   "execution_count": 9,
   "metadata": {},
   "outputs": [
    {
     "name": "stdout",
     "output_type": "stream",
     "text": [
      "Preparing Q# environment...\n"
     ]
    },
    {
     "data": {
      "text/plain": [
       "[0, 0]"
      ]
     },
     "execution_count": 9,
     "metadata": {},
     "output_type": "execute_result"
    }
   ],
   "source": [
    "import qsharp\n",
    "prepare_op = qsharp.compile(prepare_qbob.build())\n",
    "measure_op = qsharp.compile(measure_qbob.build())\n",
    "\n",
    "measure_op.simulate()"
   ]
  }
 ],
 "metadata": {
  "kernelspec": {
   "display_name": "Python 3",
   "language": "python",
   "name": "python3"
  },
  "language_info": {
   "codemirror_mode": {
    "name": "ipython",
    "version": 3
   },
   "file_extension": ".py",
   "mimetype": "text/x-python",
   "name": "python",
   "nbconvert_exporter": "python",
   "pygments_lexer": "ipython3",
   "version": "3.7.9"
  }
 },
 "nbformat": 4,
 "nbformat_minor": 4
}
