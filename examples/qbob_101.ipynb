{
 "cells": [
  {
   "cell_type": "markdown",
   "metadata": {},
   "source": [
    "# QBOB |👷🏾‍♂️> examples"
   ]
  },
  {
   "cell_type": "markdown",
   "metadata": {},
   "source": [
    "## Hello world"
   ]
  },
  {
   "cell_type": "code",
   "execution_count": 1,
   "metadata": {
    "scrolled": true
   },
   "outputs": [],
   "source": [
    "from qbob import qbob, qpam\n",
    "from qbob.intrinsics import Message"
   ]
  },
  {
   "cell_type": "code",
   "execution_count": 2,
   "metadata": {},
   "outputs": [],
   "source": [
    "my_qbob = qbob.OperationBuilder(\"HelloWorld\", entrypoint=True)\n",
    "my_qbob += Message(\"Hello World!\")"
   ]
  },
  {
   "cell_type": "code",
   "execution_count": 3,
   "metadata": {},
   "outputs": [
    {
     "name": "stdout",
     "output_type": "stream",
     "text": [
      "@EntryPoint()\n",
      "operation HelloWorld () : Unit {\n",
      "    Message(\"Hello World!\");\n",
      "}\n"
     ]
    }
   ],
   "source": [
    "print(my_qbob.build())"
   ]
  },
  {
   "cell_type": "code",
   "execution_count": 4,
   "metadata": {},
   "outputs": [
    {
     "name": "stdout",
     "output_type": "stream",
     "text": [
      "Preparing Q# environment...\n",
      "........"
     ]
    }
   ],
   "source": [
    "hello_world = my_qbob.compile()"
   ]
  },
  {
   "cell_type": "code",
   "execution_count": 5,
   "metadata": {},
   "outputs": [
    {
     "name": "stdout",
     "output_type": "stream",
     "text": [
      "Hello World!\n"
     ]
    },
    {
     "data": {
      "text/plain": [
       "()"
      ]
     },
     "execution_count": 5,
     "metadata": {},
     "output_type": "execute_result"
    }
   ],
   "source": [
    "hello_world()"
   ]
  },
  {
   "cell_type": "markdown",
   "metadata": {},
   "source": [
    "## QPAM |👷🏻‍♀️>"
   ]
  },
  {
   "cell_type": "code",
   "execution_count": 6,
   "metadata": {},
   "outputs": [
    {
     "data": {
      "text/plain": [
       "'MyProject.csproj'"
      ]
     },
     "execution_count": 6,
     "metadata": {},
     "output_type": "execute_result"
    }
   ],
   "source": [
    "my_qpam = qpam.ProgramArchitect(\"MyProject\")\n",
    "my_qpam.add_operations(my_qbob)\n",
    "my_qpam.create_project(\".\")"
   ]
  },
  {
   "cell_type": "code",
   "execution_count": 7,
   "metadata": {},
   "outputs": [
    {
     "name": "stdout",
     "output_type": "stream",
     "text": [
      "namespace MyProject {\r\n",
      "    open Microsoft.Quantum.Canon;\r\n",
      "    open Microsoft.Quantum.Intrinsic;\r\n",
      "\r\n",
      "    @EntryPoint()\r\n",
      "    operation HelloWorld () : Unit {\r\n",
      "        Message(\"Hello World!\");\r\n",
      "    }\r\n",
      "}"
     ]
    }
   ],
   "source": [
    "!cat Program.qs"
   ]
  },
  {
   "cell_type": "code",
   "execution_count": 8,
   "metadata": {},
   "outputs": [
    {
     "name": "stdout",
     "output_type": "stream",
     "text": [
      "\u001b[?1h\u001b=\u001b[?1h\u001b=\u001b[?1h\u001b=\u001b[?1h\u001b=\u001b[?1h\u001b=\u001b[?1h\u001b=\u001b[?1h\u001b=\u001b[?1h\u001b=Hello World!\n",
      "\u001b[?1h\u001b="
     ]
    }
   ],
   "source": [
    "!dotnet run"
   ]
  },
  {
   "cell_type": "markdown",
   "metadata": {},
   "source": [
    "## Teleport"
   ]
  },
  {
   "cell_type": "code",
   "execution_count": 8,
   "metadata": {},
   "outputs": [
    {
     "name": "stdout",
     "output_type": "stream",
     "text": [
      "operation Teleport (msg : Qubit, target : Qubit) : Unit {\n",
      "    using (auxiliary = Qubit()) {\n",
      "        H(auxiliary);\n",
      "        CNOT(auxiliary, target);\n",
      "        CNOT(msg, auxiliary);\n",
      "        H(msg);\n",
      "\n",
      "        if (Measure([PauliZ], [msg]) == One) {\n",
      "            Z(target);\n",
      "        }\n",
      "\n",
      "        if (Measure([PauliZ], [auxiliary]) == One) {\n",
      "            X(target);\n",
      "        }\n",
      "    }\n",
      "}\n"
     ]
    }
   ],
   "source": [
    "from qbob.intrinsics import H, CNOT, X, Z, Measure\n",
    "from qbob.types import Qubit, Pauli, One\n",
    "\n",
    "teleport = qbob.OperationBuilder(\"Teleport\")\n",
    "msg = teleport.input(\"msg\", Qubit)\n",
    "target = teleport.input(\"target\", Qubit)\n",
    "\n",
    "with teleport.allocate_qubits(\"auxiliary\", 1) as aux:\n",
    "    teleport += H(aux)\n",
    "    teleport += CNOT(aux, target)\n",
    "    teleport += CNOT(msg, aux)\n",
    "    teleport += H(msg)\n",
    "\n",
    "    with teleport.if_statement(Measure([Pauli.PauliZ], [msg]) == One):\n",
    "        teleport += Z(target)\n",
    "\n",
    "    with teleport.if_statement(Measure([Pauli.PauliZ], [aux]) == One):\n",
    "        teleport += X(target)\n",
    "        \n",
    "print(teleport.build())"
   ]
  },
  {
   "cell_type": "code",
   "execution_count": 9,
   "metadata": {},
   "outputs": [
    {
     "data": {
      "text/plain": [
       "<Q# callable Teleport>"
      ]
     },
     "execution_count": 9,
     "metadata": {},
     "output_type": "execute_result"
    }
   ],
   "source": [
    "teleport.compile()"
   ]
  },
  {
   "cell_type": "code",
   "execution_count": 10,
   "metadata": {},
   "outputs": [
    {
     "name": "stdout",
     "output_type": "stream",
     "text": [
      "operation TeleportMessage (message : Bool) : Result {\n",
      "    using (register = Qubit[2]) {\n",
      "\n",
      "        if (message == true) {\n",
      "            X(register[0]);\n",
      "        }\n",
      "        H(register[0]);\n",
      "        Teleport(register[0], register[1]);\n",
      "        return Measure([PauliX], [register[1]]);\n",
      "    }\n",
      "}\n"
     ]
    }
   ],
   "source": [
    "my_qbob = qbob.OperationBuilder(\"TeleportMessage\")\n",
    "message = my_qbob.input(\"message\", bool)\n",
    "\n",
    "with my_qbob.allocate_qubits(\"register\", 2) as register:\n",
    "    msg = register[0]\n",
    "    target = register[1]\n",
    "\n",
    "    with my_qbob.if_statement(message == \"true\"):\n",
    "        my_qbob += X(msg)\n",
    "    my_qbob += H(msg)\n",
    "\n",
    "    my_qbob += teleport(msg, target)\n",
    "    my_qbob.returns(Measure([Pauli.PauliX], [target]))\n",
    "        \n",
    "print(my_qbob.build())"
   ]
  },
  {
   "cell_type": "code",
   "execution_count": 11,
   "metadata": {},
   "outputs": [],
   "source": [
    "teleport_message = my_qbob.compile()"
   ]
  },
  {
   "cell_type": "code",
   "execution_count": 12,
   "metadata": {},
   "outputs": [
    {
     "data": {
      "text/plain": [
       "1"
      ]
     },
     "execution_count": 12,
     "metadata": {},
     "output_type": "execute_result"
    }
   ],
   "source": [
    "teleport_message(message=True)"
   ]
  },
  {
   "cell_type": "code",
   "execution_count": 13,
   "metadata": {},
   "outputs": [
    {
     "data": {
      "text/plain": [
       "0"
      ]
     },
     "execution_count": 13,
     "metadata": {},
     "output_type": "execute_result"
    }
   ],
   "source": [
    "teleport_message(message=False)"
   ]
  },
  {
   "cell_type": "markdown",
   "metadata": {},
   "source": [
    "## Prepare entangled state"
   ]
  },
  {
   "cell_type": "code",
   "execution_count": 7,
   "metadata": {},
   "outputs": [
    {
     "name": "stdout",
     "output_type": "stream",
     "text": [
      "operation PrepareEntangledState (qubits : Qubit[]) : Unit is Adj {\n",
      "    H(qubits[0]);\n",
      "    CNOT(qubits[0], qubits[1]);\n",
      "}\n"
     ]
    }
   ],
   "source": [
    "from typing import List\n",
    "from qbob.types import Qubit\n",
    "from qbob.intrinsics import H, CNOT, M\n",
    "prepare_qbob = qbob.OperationBuilder(\"PrepareEntangledState\", adj=True)\n",
    "qubits = prepare_qbob.input(\"qubits\", List[Qubit])\n",
    "\n",
    "prepare_qbob += H(qubits[0])\n",
    "prepare_qbob += CNOT(qubits[0], qubits[1])\n",
    "\n",
    "print(prepare_qbob.build())"
   ]
  },
  {
   "cell_type": "code",
   "execution_count": 8,
   "metadata": {},
   "outputs": [
    {
     "name": "stdout",
     "output_type": "stream",
     "text": [
      "operation MeasureEntangledState () : Result[] {\n",
      "    using (qubits = Qubit[2]) {\n",
      "        PrepareEntangledState(qubits);\n",
      "        return [M(qubits[0]), M(qubits[1])];\n",
      "    }\n",
      "}\n"
     ]
    }
   ],
   "source": [
    "measure_qbob = qbob.OperationBuilder(\"MeasureEntangledState\")\n",
    "\n",
    "with measure_qbob.allocate_qubits(\"qubits\", 2) as q:\n",
    "    measure_qbob += prepare_qbob(q)\n",
    "    measure_qbob.returns([M(q[0]), M(q[1])])\n",
    "    \n",
    "print(measure_qbob.build())"
   ]
  },
  {
   "cell_type": "code",
   "execution_count": 11,
   "metadata": {},
   "outputs": [],
   "source": [
    "prepare_op = prepare_qbob.compile()\n",
    "measure_op = measure_qbob.compile()"
   ]
  },
  {
   "cell_type": "code",
   "execution_count": 12,
   "metadata": {},
   "outputs": [
    {
     "data": {
      "text/plain": [
       "[0, 0]"
      ]
     },
     "execution_count": 12,
     "metadata": {},
     "output_type": "execute_result"
    }
   ],
   "source": [
    "measure_op.simulate()"
   ]
  },
  {
   "cell_type": "code",
   "execution_count": null,
   "metadata": {},
   "outputs": [],
   "source": []
  }
 ],
 "metadata": {
  "kernelspec": {
   "display_name": "Python 3",
   "language": "python",
   "name": "python3"
  },
  "language_info": {
   "codemirror_mode": {
    "name": "ipython",
    "version": 3
   },
   "file_extension": ".py",
   "mimetype": "text/x-python",
   "name": "python",
   "nbconvert_exporter": "python",
   "pygments_lexer": "ipython3",
   "version": "3.7.9"
  }
 },
 "nbformat": 4,
 "nbformat_minor": 4
}
