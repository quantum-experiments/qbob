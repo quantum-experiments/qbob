{
 "cells": [
  {
   "cell_type": "markdown",
   "metadata": {},
   "source": [
    "# QBOB |👷🏾‍♂️> examples"
   ]
  },
  {
   "cell_type": "markdown",
   "metadata": {},
   "source": [
    "## Generate a `HelloWorld` Q# operation"
   ]
  },
  {
   "cell_type": "code",
   "execution_count": 1,
   "metadata": {
    "scrolled": true
   },
   "outputs": [],
   "source": [
    "from qbob import qbob, qpam\n",
    "from qbob.intrinsics import Message, M, H"
   ]
  },
  {
   "cell_type": "code",
   "execution_count": 2,
   "metadata": {},
   "outputs": [],
   "source": [
    "my_qbob = qbob.OperationBuilder(\"HelloWorld\", entrypoint=True)\n",
    "my_qbob += Message(\"Hello World!\")\n",
    "with my_qbob.allocate_qubit(\"q\") as q:\n",
    "    my_qbob += H(q)\n",
    "    my_qbob.returns(M(q))"
   ]
  },
  {
   "cell_type": "code",
   "execution_count": 3,
   "metadata": {},
   "outputs": [
    {
     "name": "stdout",
     "output_type": "stream",
     "text": [
      "@EntryPoint()\n",
      "operation HelloWorld () : Result {\n",
      "    Message(\"Hello World!\");\n",
      "    using (q = Qubit()) {\n",
      "        H(q);\n",
      "        return M(q);\n",
      "    }\n",
      "}\n"
     ]
    }
   ],
   "source": [
    "print(my_qbob.build())"
   ]
  },
  {
   "cell_type": "code",
   "execution_count": 4,
   "metadata": {},
   "outputs": [],
   "source": [
    "my_qbob = qbob.OperationBuilder(\"HelloWorld\", entrypoint=True, debug=True)\n",
    "my_qbob += Message(\"Hello World!\")\n",
    "with my_qbob.allocate_qubits(\"q\", 1) as q:\n",
    "    my_qbob += H(q)\n",
    "    my_qbob.log_state(q)\n",
    "    my_qbob.returns(M(q))"
   ]
  },
  {
   "cell_type": "code",
   "execution_count": 5,
   "metadata": {},
   "outputs": [
    {
     "name": "stdout",
     "output_type": "stream",
     "text": [
      "Preparing Q# environment...\n",
      "Hello World!\n",
      "@EntryPoint()\n",
      "operation HelloWorld () : Result {\n",
      "    Message(\"Hello World!\");\n",
      "    using (q = Qubit()) {\n",
      "        H(q);\n",
      "        // # wave function for qubits with ids (least to most significant): 0\n",
      "        // ∣0❭:\t 0.707107 +  0.000000 i\t == \t***********          [ 0.500000 ]     --- [  0.00000 rad ]\n",
      "        // ∣1❭:\t 0.707107 +  0.000000 i\t == \t***********          [ 0.500000 ]     --- [  0.00000 rad ]\n",
      "        return M(q);\n",
      "    }\n",
      "}\n"
     ]
    }
   ],
   "source": [
    "print(my_qbob.build())"
   ]
  },
  {
   "cell_type": "code",
   "execution_count": 6,
   "metadata": {},
   "outputs": [],
   "source": [
    "hello_world = my_qbob.compile()"
   ]
  },
  {
   "cell_type": "code",
   "execution_count": 7,
   "metadata": {},
   "outputs": [
    {
     "name": "stdout",
     "output_type": "stream",
     "text": [
      "Hello World!\n"
     ]
    },
    {
     "data": {
      "text/plain": [
       "1"
      ]
     },
     "execution_count": 7,
     "metadata": {},
     "output_type": "execute_result"
    }
   ],
   "source": [
    "hello_world()"
   ]
  },
  {
   "cell_type": "markdown",
   "metadata": {},
   "source": [
    "## QPAM |👷🏻‍♀️>: Generate a Q# project"
   ]
  },
  {
   "cell_type": "code",
   "execution_count": 8,
   "metadata": {},
   "outputs": [
    {
     "name": "stdout",
     "output_type": "stream",
     "text": [
      "Hello World!\n"
     ]
    }
   ],
   "source": [
    "my_qpam = qpam.ProgramArchitect(\"MyProject\")\n",
    "my_qpam.add_operations(my_qbob)\n",
    "project_file = my_qpam.create_project(\".\")"
   ]
  },
  {
   "cell_type": "code",
   "execution_count": 9,
   "metadata": {},
   "outputs": [
    {
     "name": "stdout",
     "output_type": "stream",
     "text": [
      "<Project Sdk=\"Microsoft.Quantum.Sdk/0.14.2011120240\">\r\n",
      "    <PropertyGroup>\r\n",
      "        <OutputType>Exe</OutputType>\r\n",
      "        <TargetFramework>netcoreapp3.1</TargetFramework>\r\n",
      "    </PropertyGroup>\r\n",
      "</Project>"
     ]
    }
   ],
   "source": [
    "!cat $project_file"
   ]
  },
  {
   "cell_type": "code",
   "execution_count": 10,
   "metadata": {},
   "outputs": [
    {
     "name": "stdout",
     "output_type": "stream",
     "text": [
      "namespace MyProject\r\n",
      "        {\r\n",
      "            open Microsoft.Quantum.Canon;\r\n",
      "            open Microsoft.Quantum.Intrinsic;\r\n",
      "            @EntryPoint()\r\n",
      "operation HelloWorld () : Result {\r\n",
      "    Message(\"Hello World!\");\r\n",
      "    using (q = Qubit()) {\r\n",
      "        H(q);\r\n",
      "        // # wave function for qubits with ids (least to most significant): 0\r\n",
      "        // ∣0❭:\t 0.707107 +  0.000000 i\t == \t***********          [ 0.500000 ]     --- [  0.00000 rad ]\r\n",
      "        // ∣1❭:\t 0.707107 +  0.000000 i\t == \t***********          [ 0.500000 ]     --- [  0.00000 rad ]\r\n",
      "        return M(q);\r\n",
      "    }\r\n",
      "}\r\n",
      "        }"
     ]
    }
   ],
   "source": [
    "!cat Program.qs"
   ]
  },
  {
   "cell_type": "code",
   "execution_count": 11,
   "metadata": {},
   "outputs": [
    {
     "name": "stdout",
     "output_type": "stream",
     "text": [
      "\u001b[?1h\u001b=\u001b[?1h\u001b=\u001b[?1h\u001b=\u001b[?1h\u001b=\u001b[?1h\u001b=\u001b[?1h\u001b=\u001b[?1h\u001b=\u001b[?1h\u001b=Hello World!\n",
      "Zero\n",
      "\u001b[?1h\u001b="
     ]
    }
   ],
   "source": [
    "!dotnet run --project $project_file"
   ]
  },
  {
   "cell_type": "markdown",
   "metadata": {},
   "source": [
    "## Teleport"
   ]
  },
  {
   "cell_type": "code",
   "execution_count": 12,
   "metadata": {},
   "outputs": [
    {
     "name": "stdout",
     "output_type": "stream",
     "text": [
      "operation Teleport (msg : Qubit, target : Qubit) : Unit {\n",
      "    using (auxiliary = Qubit()) {\n",
      "        H(auxiliary);\n",
      "        CNOT(auxiliary, target);\n",
      "        CNOT(msg, auxiliary);\n",
      "        H(msg);\n",
      "\n",
      "        if (Measure([PauliZ], [msg]) == One) {\n",
      "            Z(target);\n",
      "        }\n",
      "\n",
      "        if (Measure([PauliZ], [auxiliary]) == One) {\n",
      "            X(target);\n",
      "        }\n",
      "    }\n",
      "}\n"
     ]
    }
   ],
   "source": [
    "from qbob.intrinsics import H, CNOT, X, Z, Measure\n",
    "from qbob.types import Qubit, Pauli, One\n",
    "\n",
    "teleport = qbob.OperationBuilder(\"Teleport\")\n",
    "msg = teleport.input(\"msg\", Qubit)\n",
    "target = teleport.input(\"target\", Qubit)\n",
    "\n",
    "with teleport.allocate_qubits(\"auxiliary\", 1) as aux:\n",
    "    teleport += H(aux)\n",
    "    teleport += CNOT(aux, target)\n",
    "    teleport += CNOT(msg, aux)\n",
    "    teleport += H(msg)\n",
    "\n",
    "    with teleport.if_statement(Measure([Pauli.PauliZ], [msg]) == One):\n",
    "        teleport += Z(target)\n",
    "\n",
    "    with teleport.if_statement(Measure([Pauli.PauliZ], [aux]) == One):\n",
    "        teleport += X(target)\n",
    "\n",
    "print(teleport.build())"
   ]
  },
  {
   "cell_type": "code",
   "execution_count": 13,
   "metadata": {},
   "outputs": [
    {
     "data": {
      "text/plain": [
       "<Q# callable Teleport>"
      ]
     },
     "execution_count": 13,
     "metadata": {},
     "output_type": "execute_result"
    }
   ],
   "source": [
    "teleport.compile()"
   ]
  },
  {
   "cell_type": "code",
   "execution_count": 14,
   "metadata": {},
   "outputs": [
    {
     "name": "stdout",
     "output_type": "stream",
     "text": [
      "operation TeleportMessage (message : Bool) : Result {\n",
      "    using (register = Qubit[2]) {\n",
      "\n",
      "        if (message == true) {\n",
      "            X(register[0]);\n",
      "        }\n",
      "        H(register[0]);\n",
      "        Teleport(register[0], register[1]);\n",
      "        return Measure([PauliX], [register[1]]);\n",
      "    }\n",
      "}\n"
     ]
    }
   ],
   "source": [
    "my_qbob = qbob.OperationBuilder(\"TeleportMessage\")\n",
    "message = my_qbob.input(\"message\", bool)\n",
    "\n",
    "with my_qbob.allocate_qubits(\"register\", 2) as register:\n",
    "    msg = register[0]\n",
    "    target = register[1]\n",
    "\n",
    "    with my_qbob.if_statement(message == True):\n",
    "        my_qbob += X(msg)\n",
    "    \n",
    "    my_qbob += H(msg)\n",
    "    my_qbob += teleport(msg, target)    \n",
    "    my_qbob.returns(Measure([Pauli.PauliX], [target]))\n",
    "\n",
    "print(my_qbob.build())"
   ]
  },
  {
   "cell_type": "code",
   "execution_count": 15,
   "metadata": {},
   "outputs": [],
   "source": [
    "teleport_message = my_qbob.compile()"
   ]
  },
  {
   "cell_type": "code",
   "execution_count": 16,
   "metadata": {},
   "outputs": [
    {
     "data": {
      "text/plain": [
       "1"
      ]
     },
     "execution_count": 16,
     "metadata": {},
     "output_type": "execute_result"
    }
   ],
   "source": [
    "teleport_message(message=True)"
   ]
  },
  {
   "cell_type": "code",
   "execution_count": 17,
   "metadata": {},
   "outputs": [
    {
     "data": {
      "text/plain": [
       "0"
      ]
     },
     "execution_count": 17,
     "metadata": {},
     "output_type": "execute_result"
    }
   ],
   "source": [
    "teleport_message(message=False)"
   ]
  },
  {
   "cell_type": "markdown",
   "metadata": {},
   "source": [
    "## Prepare entangled state"
   ]
  },
  {
   "cell_type": "code",
   "execution_count": 18,
   "metadata": {},
   "outputs": [
    {
     "name": "stdout",
     "output_type": "stream",
     "text": [
      "operation PrepareEntangledState (qubits : Qubit[]) : Unit is Adj {\n",
      "    H(qubits[0]);\n",
      "    CNOT(qubits[0], qubits[1]);\n",
      "}\n"
     ]
    }
   ],
   "source": [
    "from typing import List\n",
    "from qbob.types import Qubit\n",
    "from qbob.intrinsics import H, CNOT, M\n",
    "prepare_qbob = qbob.OperationBuilder(\"PrepareEntangledState\", adj=True)\n",
    "qubits = prepare_qbob.input(\"qubits\", List[Qubit])\n",
    "\n",
    "prepare_qbob += H(qubits[0])\n",
    "prepare_qbob += CNOT(qubits[0], qubits[1])\n",
    "\n",
    "print(prepare_qbob.build())"
   ]
  },
  {
   "cell_type": "code",
   "execution_count": 19,
   "metadata": {},
   "outputs": [
    {
     "data": {
      "text/plain": [
       "<Q# callable PrepareEntangledState>"
      ]
     },
     "execution_count": 19,
     "metadata": {},
     "output_type": "execute_result"
    }
   ],
   "source": [
    "prepare_qbob.compile()"
   ]
  },
  {
   "cell_type": "code",
   "execution_count": 20,
   "metadata": {},
   "outputs": [
    {
     "name": "stdout",
     "output_type": "stream",
     "text": [
      "operation MeasureEntangledState () : Result[] {\n",
      "    using (qubits = Qubit[2]) {\n",
      "        // # wave function for qubits with ids (least to most significant): 0;1\n",
      "        // ∣0❭:\t 1.000000 +  0.000000 i\t == \t******************** [ 1.000000 ]     --- [  0.00000 rad ]\n",
      "        // ∣1❭:\t 0.000000 +  0.000000 i\t == \t                     [ 0.000000 ]                   \n",
      "        // ∣2❭:\t 0.000000 +  0.000000 i\t == \t                     [ 0.000000 ]                   \n",
      "        // ∣3❭:\t 0.000000 +  0.000000 i\t == \t                     [ 0.000000 ]                   \n",
      "        PrepareEntangledState(qubits);\n",
      "        // # wave function for qubits with ids (least to most significant): 0;1\n",
      "        // ∣0❭:\t 0.707107 +  0.000000 i\t == \t***********          [ 0.500000 ]     --- [  0.00000 rad ]\n",
      "        // ∣1❭:\t 0.000000 +  0.000000 i\t == \t                     [ 0.000000 ]                   \n",
      "        // ∣2❭:\t 0.000000 +  0.000000 i\t == \t                     [ 0.000000 ]                   \n",
      "        // ∣3❭:\t 0.707107 +  0.000000 i\t == \t***********          [ 0.500000 ]     --- [  0.00000 rad ]\n",
      "        return [M(qubits[0]), M(qubits[1])];\n",
      "    }\n",
      "}\n"
     ]
    }
   ],
   "source": [
    "measure_qbob = qbob.OperationBuilder(\"MeasureEntangledState\", debug=True)\n",
    "\n",
    "with measure_qbob.allocate_qubits(\"qubits\", 2) as q:\n",
    "    measure_qbob.log_state(q)\n",
    "    measure_qbob += prepare_qbob(q)\n",
    "    measure_qbob.log_state(q)\n",
    "    measure_qbob.returns([M(q[0]), M(q[1])])\n",
    "    \n",
    "print(measure_qbob.build())"
   ]
  },
  {
   "cell_type": "code",
   "execution_count": 21,
   "metadata": {},
   "outputs": [],
   "source": [
    "measure_op = measure_qbob.compile()"
   ]
  },
  {
   "cell_type": "code",
   "execution_count": 22,
   "metadata": {},
   "outputs": [
    {
     "data": {
      "text/plain": [
       "[0, 0]"
      ]
     },
     "execution_count": 22,
     "metadata": {},
     "output_type": "execute_result"
    }
   ],
   "source": [
    "measure_op.simulate()"
   ]
  },
  {
   "cell_type": "markdown",
   "metadata": {},
   "source": [
    "## Debugging"
   ]
  },
  {
   "cell_type": "code",
   "execution_count": 23,
   "metadata": {},
   "outputs": [],
   "source": [
    "my_qbob = qbob.OperationBuilder(\"TestDumpMachine\", debug=True)\n",
    "\n",
    "with my_qbob.allocate_qubits(\"q\", 3) as q:\n",
    "    my_qbob += H(q[0])\n",
    "    my_qbob.log_state(q[0])\n",
    "    my_qbob += H(q[1])\n",
    "    my_qbob.log_state(q[1])\n",
    "    my_qbob += X(q[2])\n",
    "    my_qbob.log_state(q[2])\n",
    "    my_qbob.returns([M(q[0]), M(q[1]), M(q[2])])"
   ]
  },
  {
   "cell_type": "code",
   "execution_count": 24,
   "metadata": {},
   "outputs": [
    {
     "name": "stdout",
     "output_type": "stream",
     "text": [
      "operation TestDumpMachine () : Result[] {\n",
      "    using (q = Qubit[3]) {\n",
      "        H(q[0]);\n",
      "        // # wave function for qubits with ids (least to most significant): 0\n",
      "        // ∣0❭:\t 0.707107 +  0.000000 i\t == \t***********          [ 0.500000 ]     --- [  0.00000 rad ]\n",
      "        // ∣1❭:\t 0.707107 +  0.000000 i\t == \t***********          [ 0.500000 ]     --- [  0.00000 rad ]\n",
      "        H(q[1]);\n",
      "        // # wave function for qubits with ids (least to most significant): 1\n",
      "        // ∣0❭:\t 0.707107 +  0.000000 i\t == \t**********           [ 0.500000 ]     --- [  0.00000 rad ]\n",
      "        // ∣1❭:\t 0.707107 +  0.000000 i\t == \t**********           [ 0.500000 ]     --- [  0.00000 rad ]\n",
      "        X(q[2]);\n",
      "        // # wave function for qubits with ids (least to most significant): 2\n",
      "        // ∣0❭:\t 0.000000 +  0.000000 i\t == \t                     [ 0.000000 ]                   \n",
      "        // ∣1❭:\t 1.000000 +  0.000000 i\t == \t******************** [ 1.000000 ]     --- [  0.00000 rad ]\n",
      "        return [M(q[0]), M(q[1]), M(q[2])];\n",
      "    }\n",
      "}\n"
     ]
    }
   ],
   "source": [
    "print(my_qbob.build()) # code contains the state at each line"
   ]
  },
  {
   "cell_type": "code",
   "execution_count": 25,
   "metadata": {},
   "outputs": [
    {
     "name": "stdout",
     "output_type": "stream",
     "text": [
      "operation TestDumpMachine () : Result[] {\n",
      "    using (q = Qubit[3]) {\n",
      "        H(q[0]);\n",
      "        H(q[1]);\n",
      "        X(q[2]);\n",
      "        return [M(q[0]), M(q[1]), M(q[2])];\n",
      "    }\n",
      "}\n"
     ]
    }
   ],
   "source": [
    "print(my_qbob.formatted())"
   ]
  },
  {
   "cell_type": "code",
   "execution_count": 26,
   "metadata": {},
   "outputs": [
    {
     "data": {
      "text/plain": [
       "[1, 1, 1]"
      ]
     },
     "execution_count": 26,
     "metadata": {},
     "output_type": "execute_result"
    }
   ],
   "source": [
    "test = my_qbob.compile()\n",
    "test()"
   ]
  },
  {
   "cell_type": "code",
   "execution_count": 27,
   "metadata": {},
   "outputs": [],
   "source": [
    "results = [test() for _ in range(1000)]"
   ]
  },
  {
   "cell_type": "code",
   "execution_count": 28,
   "metadata": {},
   "outputs": [],
   "source": [
    "import numpy as np\n",
    "\n",
    "q0, q1, q2 = np.array(results).T"
   ]
  },
  {
   "cell_type": "code",
   "execution_count": 29,
   "metadata": {},
   "outputs": [
    {
     "data": {
      "text/plain": [
       "(0.542, 0.494, 0.0)"
      ]
     },
     "execution_count": 29,
     "metadata": {},
     "output_type": "execute_result"
    }
   ],
   "source": [
    "def frequency(result):\n",
    "    return len(result[result==0])/len(result)\n",
    "\n",
    "frequency(q0), frequency(q1), frequency(q2)"
   ]
  }
 ],
 "metadata": {
  "kernelspec": {
   "display_name": "Python 3",
   "language": "python",
   "name": "python3"
  },
  "language_info": {
   "codemirror_mode": {
    "name": "ipython",
    "version": 3
   },
   "file_extension": ".py",
   "mimetype": "text/x-python",
   "name": "python",
   "nbconvert_exporter": "python",
   "pygments_lexer": "ipython3",
   "version": "3.7.0"
  }
 },
 "nbformat": 4,
 "nbformat_minor": 4
}
