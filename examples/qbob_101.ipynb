{
 "cells": [
  {
   "cell_type": "markdown",
   "metadata": {},
   "source": [
    "# QBOB |👷🏾‍♂️> examples"
   ]
  },
  {
   "cell_type": "markdown",
   "metadata": {},
   "source": [
    "## Generate a `HelloWorld` Q# operation"
   ]
  },
  {
   "cell_type": "code",
   "execution_count": 1,
   "metadata": {
    "scrolled": true
   },
   "outputs": [],
   "source": [
    "from qbob import qbob, qpam\n",
    "from qbob.intrinsics import Message, M, H"
   ]
  },
  {
   "cell_type": "code",
   "execution_count": 2,
   "metadata": {},
   "outputs": [],
   "source": [
    "my_qbob = qbob.OperationBuilder(\"HelloWorld\", entrypoint=True)\n",
    "my_qbob += Message(\"Hello World!\")\n",
    "with my_qbob.allocate_qubit(\"q\") as q:\n",
    "    my_qbob += H(q)\n",
    "    my_qbob.returns(M(q))"
   ]
  },
  {
   "cell_type": "code",
   "execution_count": 3,
   "metadata": {},
   "outputs": [
    {
     "name": "stdout",
     "output_type": "stream",
     "text": [
      "@EntryPoint()\n",
      "operation HelloWorld () : Result {\n",
      "    Message(\"Hello World!\");\n",
      "    using (q = Qubit()) {\n",
      "        H(q);\n",
      "        return M(q);\n",
      "    }\n",
      "}\n"
     ]
    }
   ],
   "source": [
    "print(my_qbob.build())"
   ]
  },
  {
   "cell_type": "code",
   "execution_count": 4,
   "metadata": {},
   "outputs": [],
   "source": [
    "my_qbob = qbob.OperationBuilder(\"HelloWorld\", entrypoint=True, debug=True)\n",
    "my_qbob += Message(\"Hello World!\")\n",
    "with my_qbob.allocate_qubits(\"q\", 1) as q:\n",
    "    my_qbob += H(q)\n",
    "    my_qbob.log_state(q)\n",
    "    my_qbob.returns(M(q))"
   ]
  },
  {
   "cell_type": "code",
   "execution_count": 5,
   "metadata": {},
   "outputs": [
    {
     "name": "stdout",
     "output_type": "stream",
     "text": [
      "Preparing Q# environment...\n",
      "Hello World!\n",
      "@EntryPoint()\n",
      "operation HelloWorld () : Result {\n",
      "    Message(\"Hello World!\");\n",
      "    using (q = Qubit()) {\n",
      "        H(q);\n",
      "        // # wave function for qubits with ids (least to most significant): 0\n",
      "        // ∣0❭:\t 0.707107 +  0.000000 i\t == \t***********          [ 0.500000 ]     --- [  0.00000 rad ]\n",
      "        // ∣1❭:\t 0.707107 +  0.000000 i\t == \t***********          [ 0.500000 ]     --- [  0.00000 rad ]\n",
      "        return M(q);\n",
      "    }\n",
      "}\n"
     ]
    }
   ],
   "source": [
    "print(my_qbob.build())"
   ]
  },
  {
   "cell_type": "code",
   "execution_count": 6,
   "metadata": {},
   "outputs": [],
   "source": [
    "hello_world = my_qbob.compile()"
   ]
  },
  {
   "cell_type": "code",
   "execution_count": 7,
   "metadata": {},
   "outputs": [
    {
     "name": "stdout",
     "output_type": "stream",
     "text": [
      "Hello World!\n"
     ]
    },
    {
     "data": {
      "text/plain": [
       "1"
      ]
     },
     "execution_count": 7,
     "metadata": {},
     "output_type": "execute_result"
    }
   ],
   "source": [
    "hello_world()"
   ]
  }
 ],
 "metadata": {
  "kernelspec": {
   "display_name": "Python 3",
   "language": "python",
   "name": "python3"
  },
  "language_info": {
   "codemirror_mode": {
    "name": "ipython",
    "version": 3
   },
   "file_extension": ".py",
   "mimetype": "text/x-python",
   "name": "python",
   "nbconvert_exporter": "python",
   "pygments_lexer": "ipython3",
   "version": "3.7.0"
  }
 },
 "nbformat": 4,
 "nbformat_minor": 4
}
